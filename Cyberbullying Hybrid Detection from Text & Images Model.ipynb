{
 "cells": [
  {
   "cell_type": "code",
   "execution_count": 2,
   "id": "9ba84907",
   "metadata": {},
   "outputs": [],
   "source": [
    "import numpy as np\n",
    "import pandas as pd\n",
    "from sklearn.model_selection import train_test_split\n",
    "from sklearn.preprocessing import LabelEncoder\n",
    "from tensorflow.keras.preprocessing.text import Tokenizer\n",
    "from tensorflow.keras.preprocessing.sequence import pad_sequences\n",
    "from tensorflow.keras.models import Model\n",
    "from tensorflow.keras.layers import Input, Embedding, LSTM, Conv2D, MaxPooling2D, concatenate, Dense, Dropout, Flatten\n",
    "from tensorflow.keras.optimizers import Adam\n",
    "from tensorflow.keras.preprocessing.image import load_img, img_to_array\n",
    "from tensorflow.keras.utils import to_categorical\n",
    "from tensorflow.keras.callbacks import EarlyStopping\n",
    "import matplotlib.pyplot as plt\n",
    "import seaborn as sn"
   ]
  },
  {
   "cell_type": "markdown",
   "id": "46ca0ac3",
   "metadata": {},
   "source": [
    "# LOAD DATASET"
   ]
  },
  {
   "cell_type": "code",
   "execution_count": 3,
   "id": "2b18e63c",
   "metadata": {},
   "outputs": [],
   "source": [
    "df = pd.read_json('/Users/comfortuji/Desktop/Cyberbullying/data/train.json', lines=True)"
   ]
  },
  {
   "cell_type": "code",
   "execution_count": 4,
   "id": "22b4881e",
   "metadata": {},
   "outputs": [
    {
     "data": {
      "text/html": [
       "<div>\n",
       "<style scoped>\n",
       "    .dataframe tbody tr th:only-of-type {\n",
       "        vertical-align: middle;\n",
       "    }\n",
       "\n",
       "    .dataframe tbody tr th {\n",
       "        vertical-align: top;\n",
       "    }\n",
       "\n",
       "    .dataframe thead th {\n",
       "        text-align: right;\n",
       "    }\n",
       "</style>\n",
       "<table border=\"1\" class=\"dataframe\">\n",
       "  <thead>\n",
       "    <tr style=\"text-align: right;\">\n",
       "      <th></th>\n",
       "      <th>id</th>\n",
       "      <th>img</th>\n",
       "      <th>label</th>\n",
       "      <th>text</th>\n",
       "    </tr>\n",
       "  </thead>\n",
       "  <tbody>\n",
       "    <tr>\n",
       "      <th>0</th>\n",
       "      <td>42953</td>\n",
       "      <td>img/42953.png</td>\n",
       "      <td>0</td>\n",
       "      <td>its their character not their color that matters</td>\n",
       "    </tr>\n",
       "    <tr>\n",
       "      <th>1</th>\n",
       "      <td>23058</td>\n",
       "      <td>img/23058.png</td>\n",
       "      <td>0</td>\n",
       "      <td>don't be afraid to love again everyone is not ...</td>\n",
       "    </tr>\n",
       "    <tr>\n",
       "      <th>2</th>\n",
       "      <td>13894</td>\n",
       "      <td>img/13894.png</td>\n",
       "      <td>0</td>\n",
       "      <td>putting bows on your pet</td>\n",
       "    </tr>\n",
       "    <tr>\n",
       "      <th>3</th>\n",
       "      <td>37408</td>\n",
       "      <td>img/37408.png</td>\n",
       "      <td>0</td>\n",
       "      <td>i love everything and everybody! except for sq...</td>\n",
       "    </tr>\n",
       "    <tr>\n",
       "      <th>4</th>\n",
       "      <td>82403</td>\n",
       "      <td>img/82403.png</td>\n",
       "      <td>0</td>\n",
       "      <td>everybody loves chocolate chip cookies, even h...</td>\n",
       "    </tr>\n",
       "    <tr>\n",
       "      <th>...</th>\n",
       "      <td>...</td>\n",
       "      <td>...</td>\n",
       "      <td>...</td>\n",
       "      <td>...</td>\n",
       "    </tr>\n",
       "    <tr>\n",
       "      <th>8495</th>\n",
       "      <td>10423</td>\n",
       "      <td>img/10423.png</td>\n",
       "      <td>1</td>\n",
       "      <td>nobody wants to hang auschwitz me</td>\n",
       "    </tr>\n",
       "    <tr>\n",
       "      <th>8496</th>\n",
       "      <td>98203</td>\n",
       "      <td>img/98203.png</td>\n",
       "      <td>1</td>\n",
       "      <td>when god grants you a child after 20 years of ...</td>\n",
       "    </tr>\n",
       "    <tr>\n",
       "      <th>8497</th>\n",
       "      <td>36947</td>\n",
       "      <td>img/36947.png</td>\n",
       "      <td>1</td>\n",
       "      <td>gays on social media: equality! body positivit...</td>\n",
       "    </tr>\n",
       "    <tr>\n",
       "      <th>8498</th>\n",
       "      <td>16492</td>\n",
       "      <td>img/16492.png</td>\n",
       "      <td>1</td>\n",
       "      <td>having a bad day? you could be a siamese twin ...</td>\n",
       "    </tr>\n",
       "    <tr>\n",
       "      <th>8499</th>\n",
       "      <td>15937</td>\n",
       "      <td>img/15937.png</td>\n",
       "      <td>1</td>\n",
       "      <td>i hate muslims too they take their religion to...</td>\n",
       "    </tr>\n",
       "  </tbody>\n",
       "</table>\n",
       "<p>8500 rows × 4 columns</p>\n",
       "</div>"
      ],
      "text/plain": [
       "         id            img  label  \\\n",
       "0     42953  img/42953.png      0   \n",
       "1     23058  img/23058.png      0   \n",
       "2     13894  img/13894.png      0   \n",
       "3     37408  img/37408.png      0   \n",
       "4     82403  img/82403.png      0   \n",
       "...     ...            ...    ...   \n",
       "8495  10423  img/10423.png      1   \n",
       "8496  98203  img/98203.png      1   \n",
       "8497  36947  img/36947.png      1   \n",
       "8498  16492  img/16492.png      1   \n",
       "8499  15937  img/15937.png      1   \n",
       "\n",
       "                                                   text  \n",
       "0      its their character not their color that matters  \n",
       "1     don't be afraid to love again everyone is not ...  \n",
       "2                              putting bows on your pet  \n",
       "3     i love everything and everybody! except for sq...  \n",
       "4     everybody loves chocolate chip cookies, even h...  \n",
       "...                                                 ...  \n",
       "8495                  nobody wants to hang auschwitz me  \n",
       "8496  when god grants you a child after 20 years of ...  \n",
       "8497  gays on social media: equality! body positivit...  \n",
       "8498  having a bad day? you could be a siamese twin ...  \n",
       "8499  i hate muslims too they take their religion to...  \n",
       "\n",
       "[8500 rows x 4 columns]"
      ]
     },
     "execution_count": 4,
     "metadata": {},
     "output_type": "execute_result"
    }
   ],
   "source": [
    "df"
   ]
  },
  {
   "cell_type": "markdown",
   "id": "626ad971",
   "metadata": {},
   "source": [
    "# TEXT DATA"
   ]
  },
  {
   "cell_type": "code",
   "execution_count": 10,
   "id": "239506ca",
   "metadata": {},
   "outputs": [],
   "source": [
    "#text data\n",
    "text_data = df.drop(['img'], axis=1)"
   ]
  },
  {
   "cell_type": "code",
   "execution_count": 11,
   "id": "6c9209ae",
   "metadata": {},
   "outputs": [
    {
     "data": {
      "text/html": [
       "<div>\n",
       "<style scoped>\n",
       "    .dataframe tbody tr th:only-of-type {\n",
       "        vertical-align: middle;\n",
       "    }\n",
       "\n",
       "    .dataframe tbody tr th {\n",
       "        vertical-align: top;\n",
       "    }\n",
       "\n",
       "    .dataframe thead th {\n",
       "        text-align: right;\n",
       "    }\n",
       "</style>\n",
       "<table border=\"1\" class=\"dataframe\">\n",
       "  <thead>\n",
       "    <tr style=\"text-align: right;\">\n",
       "      <th></th>\n",
       "      <th>id</th>\n",
       "      <th>label</th>\n",
       "      <th>text</th>\n",
       "    </tr>\n",
       "  </thead>\n",
       "  <tbody>\n",
       "    <tr>\n",
       "      <th>0</th>\n",
       "      <td>42953</td>\n",
       "      <td>0</td>\n",
       "      <td>its their character not their color that matters</td>\n",
       "    </tr>\n",
       "    <tr>\n",
       "      <th>1</th>\n",
       "      <td>23058</td>\n",
       "      <td>0</td>\n",
       "      <td>don't be afraid to love again everyone is not ...</td>\n",
       "    </tr>\n",
       "    <tr>\n",
       "      <th>2</th>\n",
       "      <td>13894</td>\n",
       "      <td>0</td>\n",
       "      <td>putting bows on your pet</td>\n",
       "    </tr>\n",
       "    <tr>\n",
       "      <th>3</th>\n",
       "      <td>37408</td>\n",
       "      <td>0</td>\n",
       "      <td>i love everything and everybody! except for sq...</td>\n",
       "    </tr>\n",
       "    <tr>\n",
       "      <th>4</th>\n",
       "      <td>82403</td>\n",
       "      <td>0</td>\n",
       "      <td>everybody loves chocolate chip cookies, even h...</td>\n",
       "    </tr>\n",
       "    <tr>\n",
       "      <th>...</th>\n",
       "      <td>...</td>\n",
       "      <td>...</td>\n",
       "      <td>...</td>\n",
       "    </tr>\n",
       "    <tr>\n",
       "      <th>8495</th>\n",
       "      <td>10423</td>\n",
       "      <td>1</td>\n",
       "      <td>nobody wants to hang auschwitz me</td>\n",
       "    </tr>\n",
       "    <tr>\n",
       "      <th>8496</th>\n",
       "      <td>98203</td>\n",
       "      <td>1</td>\n",
       "      <td>when god grants you a child after 20 years of ...</td>\n",
       "    </tr>\n",
       "    <tr>\n",
       "      <th>8497</th>\n",
       "      <td>36947</td>\n",
       "      <td>1</td>\n",
       "      <td>gays on social media: equality! body positivit...</td>\n",
       "    </tr>\n",
       "    <tr>\n",
       "      <th>8498</th>\n",
       "      <td>16492</td>\n",
       "      <td>1</td>\n",
       "      <td>having a bad day? you could be a siamese twin ...</td>\n",
       "    </tr>\n",
       "    <tr>\n",
       "      <th>8499</th>\n",
       "      <td>15937</td>\n",
       "      <td>1</td>\n",
       "      <td>i hate muslims too they take their religion to...</td>\n",
       "    </tr>\n",
       "  </tbody>\n",
       "</table>\n",
       "<p>8500 rows × 3 columns</p>\n",
       "</div>"
      ],
      "text/plain": [
       "         id  label                                               text\n",
       "0     42953      0   its their character not their color that matters\n",
       "1     23058      0  don't be afraid to love again everyone is not ...\n",
       "2     13894      0                           putting bows on your pet\n",
       "3     37408      0  i love everything and everybody! except for sq...\n",
       "4     82403      0  everybody loves chocolate chip cookies, even h...\n",
       "...     ...    ...                                                ...\n",
       "8495  10423      1                  nobody wants to hang auschwitz me\n",
       "8496  98203      1  when god grants you a child after 20 years of ...\n",
       "8497  36947      1  gays on social media: equality! body positivit...\n",
       "8498  16492      1  having a bad day? you could be a siamese twin ...\n",
       "8499  15937      1  i hate muslims too they take their religion to...\n",
       "\n",
       "[8500 rows x 3 columns]"
      ]
     },
     "execution_count": 11,
     "metadata": {},
     "output_type": "execute_result"
    }
   ],
   "source": [
    "text_data"
   ]
  },
  {
   "cell_type": "code",
   "execution_count": 12,
   "id": "1e232650",
   "metadata": {},
   "outputs": [],
   "source": [
    "texts = text_data['text'].values"
   ]
  },
  {
   "cell_type": "code",
   "execution_count": 13,
   "id": "47138dae",
   "metadata": {},
   "outputs": [
    {
     "data": {
      "text/plain": [
       "array(['its their character not their color that matters',\n",
       "       \"don't be afraid to love again everyone is not like your ex\",\n",
       "       'putting bows on your pet', ...,\n",
       "       'gays on social media: equality! body positivity! love love love! gays in real life: there is no place for her in our social circle',\n",
       "       \"having a bad day? you could be a siamese twin attached to a gay brother who has a date and you're the only one with an ass\",\n",
       "       'i hate muslims too they take their religion too seriously pathetic weaklings'],\n",
       "      dtype=object)"
      ]
     },
     "execution_count": 13,
     "metadata": {},
     "output_type": "execute_result"
    }
   ],
   "source": [
    "texts"
   ]
  },
  {
   "cell_type": "code",
   "execution_count": 16,
   "id": "d9aa1dab",
   "metadata": {},
   "outputs": [],
   "source": [
    "labels = text_data['label'].values"
   ]
  },
  {
   "cell_type": "code",
   "execution_count": 17,
   "id": "dc4ffd0b",
   "metadata": {},
   "outputs": [
    {
     "data": {
      "text/plain": [
       "array([0, 0, 0, ..., 1, 1, 1])"
      ]
     },
     "execution_count": 17,
     "metadata": {},
     "output_type": "execute_result"
    }
   ],
   "source": [
    "labels"
   ]
  },
  {
   "cell_type": "markdown",
   "id": "78fb7d75",
   "metadata": {},
   "source": [
    "# IMAGE DATA"
   ]
  },
  {
   "cell_type": "code",
   "execution_count": 14,
   "id": "39c1d3c8",
   "metadata": {},
   "outputs": [],
   "source": [
    "#image data\n",
    "image_data = df.drop(['text'], axis=1)"
   ]
  },
  {
   "cell_type": "code",
   "execution_count": 15,
   "id": "b85bf054",
   "metadata": {},
   "outputs": [
    {
     "data": {
      "text/html": [
       "<div>\n",
       "<style scoped>\n",
       "    .dataframe tbody tr th:only-of-type {\n",
       "        vertical-align: middle;\n",
       "    }\n",
       "\n",
       "    .dataframe tbody tr th {\n",
       "        vertical-align: top;\n",
       "    }\n",
       "\n",
       "    .dataframe thead th {\n",
       "        text-align: right;\n",
       "    }\n",
       "</style>\n",
       "<table border=\"1\" class=\"dataframe\">\n",
       "  <thead>\n",
       "    <tr style=\"text-align: right;\">\n",
       "      <th></th>\n",
       "      <th>id</th>\n",
       "      <th>img</th>\n",
       "      <th>label</th>\n",
       "    </tr>\n",
       "  </thead>\n",
       "  <tbody>\n",
       "    <tr>\n",
       "      <th>0</th>\n",
       "      <td>42953</td>\n",
       "      <td>img/42953.png</td>\n",
       "      <td>0</td>\n",
       "    </tr>\n",
       "    <tr>\n",
       "      <th>1</th>\n",
       "      <td>23058</td>\n",
       "      <td>img/23058.png</td>\n",
       "      <td>0</td>\n",
       "    </tr>\n",
       "    <tr>\n",
       "      <th>2</th>\n",
       "      <td>13894</td>\n",
       "      <td>img/13894.png</td>\n",
       "      <td>0</td>\n",
       "    </tr>\n",
       "    <tr>\n",
       "      <th>3</th>\n",
       "      <td>37408</td>\n",
       "      <td>img/37408.png</td>\n",
       "      <td>0</td>\n",
       "    </tr>\n",
       "    <tr>\n",
       "      <th>4</th>\n",
       "      <td>82403</td>\n",
       "      <td>img/82403.png</td>\n",
       "      <td>0</td>\n",
       "    </tr>\n",
       "    <tr>\n",
       "      <th>...</th>\n",
       "      <td>...</td>\n",
       "      <td>...</td>\n",
       "      <td>...</td>\n",
       "    </tr>\n",
       "    <tr>\n",
       "      <th>8495</th>\n",
       "      <td>10423</td>\n",
       "      <td>img/10423.png</td>\n",
       "      <td>1</td>\n",
       "    </tr>\n",
       "    <tr>\n",
       "      <th>8496</th>\n",
       "      <td>98203</td>\n",
       "      <td>img/98203.png</td>\n",
       "      <td>1</td>\n",
       "    </tr>\n",
       "    <tr>\n",
       "      <th>8497</th>\n",
       "      <td>36947</td>\n",
       "      <td>img/36947.png</td>\n",
       "      <td>1</td>\n",
       "    </tr>\n",
       "    <tr>\n",
       "      <th>8498</th>\n",
       "      <td>16492</td>\n",
       "      <td>img/16492.png</td>\n",
       "      <td>1</td>\n",
       "    </tr>\n",
       "    <tr>\n",
       "      <th>8499</th>\n",
       "      <td>15937</td>\n",
       "      <td>img/15937.png</td>\n",
       "      <td>1</td>\n",
       "    </tr>\n",
       "  </tbody>\n",
       "</table>\n",
       "<p>8500 rows × 3 columns</p>\n",
       "</div>"
      ],
      "text/plain": [
       "         id            img  label\n",
       "0     42953  img/42953.png      0\n",
       "1     23058  img/23058.png      0\n",
       "2     13894  img/13894.png      0\n",
       "3     37408  img/37408.png      0\n",
       "4     82403  img/82403.png      0\n",
       "...     ...            ...    ...\n",
       "8495  10423  img/10423.png      1\n",
       "8496  98203  img/98203.png      1\n",
       "8497  36947  img/36947.png      1\n",
       "8498  16492  img/16492.png      1\n",
       "8499  15937  img/15937.png      1\n",
       "\n",
       "[8500 rows x 3 columns]"
      ]
     },
     "execution_count": 15,
     "metadata": {},
     "output_type": "execute_result"
    }
   ],
   "source": [
    "image_data"
   ]
  },
  {
   "cell_type": "code",
   "execution_count": 76,
   "id": "2f604b19",
   "metadata": {},
   "outputs": [
    {
     "name": "stdout",
     "output_type": "stream",
     "text": [
      "         id            img  label  \\\n",
      "10    79351  img/79351.png      1   \n",
      "12    25489  img/25489.png      1   \n",
      "27    72640  img/72640.png      1   \n",
      "30    93547  img/93547.png      1   \n",
      "48    74386  img/74386.png      1   \n",
      "...     ...            ...    ...   \n",
      "8495  10423  img/10423.png      1   \n",
      "8496  98203  img/98203.png      1   \n",
      "8497  36947  img/36947.png      1   \n",
      "8498  16492  img/16492.png      1   \n",
      "8499  15937  img/15937.png      1   \n",
      "\n",
      "                                                   text  \n",
      "10                             jew mad? get fuhrerious!  \n",
      "12     brother... a day without a blast is a day wasted  \n",
      "27    is bribing muslims for liberal votes justin tr...  \n",
      "30    d.j. osama spin laden droppin' beats like the ...  \n",
      "48    we said we would never forget why are you voti...  \n",
      "...                                                 ...  \n",
      "8495                  nobody wants to hang auschwitz me  \n",
      "8496  when god grants you a child after 20 years of ...  \n",
      "8497  gays on social media: equality! body positivit...  \n",
      "8498  having a bad day? you could be a siamese twin ...  \n",
      "8499  i hate muslims too they take their religion to...  \n",
      "\n",
      "[3050 rows x 4 columns]\n"
     ]
    }
   ],
   "source": [
    "# Filter images with labels 1\n",
    "cyberbullying_image = df[df['label'] == 1]\n",
    "print(cyberbullying_image)"
   ]
  },
  {
   "cell_type": "code",
   "execution_count": 77,
   "id": "724f31dd",
   "metadata": {},
   "outputs": [
    {
     "name": "stdout",
     "output_type": "stream",
     "text": [
      "         id            img  label  \\\n",
      "0     42953  img/42953.png      0   \n",
      "1     23058  img/23058.png      0   \n",
      "2     13894  img/13894.png      0   \n",
      "3     37408  img/37408.png      0   \n",
      "4     82403  img/82403.png      0   \n",
      "...     ...            ...    ...   \n",
      "8340   5743  img/05743.png      0   \n",
      "8341  74183  img/74183.png      0   \n",
      "8343  10834  img/10834.png      0   \n",
      "8345  56480  img/56480.png      0   \n",
      "8349  89540  img/89540.png      0   \n",
      "\n",
      "                                                   text  \n",
      "0      its their character not their color that matters  \n",
      "1     don't be afraid to love again everyone is not ...  \n",
      "2                              putting bows on your pet  \n",
      "3     i love everything and everybody! except for sq...  \n",
      "4     everybody loves chocolate chip cookies, even h...  \n",
      "...                                                 ...  \n",
      "8340     how your booty feels after the taco bell drops  \n",
      "8341  when you hear monsanto lost its 1st round up c...  \n",
      "8343  when my autistic son finds out we're having ch...  \n",
      "8345                     when she said all men are dogs  \n",
      "8349  they've started pouring the foundation for the...  \n",
      "\n",
      "[5450 rows x 4 columns]\n"
     ]
    }
   ],
   "source": [
    "# Filter images with labels 0\n",
    "notcyberbullying_image = df[df['label'] == 0]\n",
    "print(notcyberbullying_image)"
   ]
  },
  {
   "cell_type": "code",
   "execution_count": 26,
   "id": "131e822c",
   "metadata": {},
   "outputs": [],
   "source": [
    "    def load_images(image_paths, target_size=(100, 100)):\n",
    "        images = []\n",
    "        for path in image_paths:\n",
    "            img = load_img(path, target_size=target_size)\n",
    "            img_array = img_to_array(img)\n",
    "            images.append(img_array)\n",
    "        return np.array(images)\n",
    "\n",
    "image_paths = [\"/Users/comfortuji/Desktop/Cyberbullying/data/\" + img_name for img_name in image_data['img'].values]  # Replace with your image directory\n",
    "images = load_images(image_paths)"
   ]
  },
  {
   "cell_type": "code",
   "execution_count": 27,
   "id": "0f943bc7",
   "metadata": {},
   "outputs": [
    {
     "data": {
      "text/plain": [
       "array([[[[  0.,   0.,   0.],\n",
       "         [  0.,   0.,   0.],\n",
       "         [  0.,   0.,   0.],\n",
       "         ...,\n",
       "         [  0.,   0.,   0.],\n",
       "         [  0.,   0.,   0.],\n",
       "         [  0.,   0.,   0.]],\n",
       "\n",
       "        [[255., 255., 255.],\n",
       "         [255., 255., 255.],\n",
       "         [ 44.,  44.,  35.],\n",
       "         ...,\n",
       "         [ 42.,  43.,  34.],\n",
       "         [255., 255., 254.],\n",
       "         [255., 255., 255.]],\n",
       "\n",
       "        [[255., 255., 255.],\n",
       "         [255., 255., 255.],\n",
       "         [ 44.,  45.,  36.],\n",
       "         ...,\n",
       "         [ 43.,  43.,  35.],\n",
       "         [255., 255., 254.],\n",
       "         [255., 255., 255.]],\n",
       "\n",
       "        ...,\n",
       "\n",
       "        [[  3.,   2.,   3.],\n",
       "         [  3.,   2.,   3.],\n",
       "         [  3.,   2.,   3.],\n",
       "         ...,\n",
       "         [121.,  69.,  48.],\n",
       "         [125.,  74.,  56.],\n",
       "         [131.,  80.,  61.]],\n",
       "\n",
       "        [[  2.,   2.,   2.],\n",
       "         [  2.,   2.,   2.],\n",
       "         [  2.,   2.,   2.],\n",
       "         ...,\n",
       "         [124.,  71.,  54.],\n",
       "         [125.,  72.,  50.],\n",
       "         [126.,  73.,  51.]],\n",
       "\n",
       "        [[  0.,   0.,   0.],\n",
       "         [  0.,   0.,   0.],\n",
       "         [  0.,   0.,   0.],\n",
       "         ...,\n",
       "         [  0.,   0.,   0.],\n",
       "         [  0.,   0.,   0.],\n",
       "         [  0.,   0.,   0.]]],\n",
       "\n",
       "\n",
       "       [[[246., 248., 245.],\n",
       "         [246., 248., 246.],\n",
       "         [247., 248., 247.],\n",
       "         ...,\n",
       "         [232., 236., 238.],\n",
       "         [231., 235., 238.],\n",
       "         [230., 234., 237.]],\n",
       "\n",
       "        [[246., 247., 245.],\n",
       "         [247., 248., 246.],\n",
       "         [248., 248., 246.],\n",
       "         ...,\n",
       "         [231., 235., 238.],\n",
       "         [231., 235., 238.],\n",
       "         [230., 234., 237.]],\n",
       "\n",
       "        [[247., 248., 246.],\n",
       "         [247., 248., 246.],\n",
       "         [247., 249., 246.],\n",
       "         ...,\n",
       "         [230., 234., 237.],\n",
       "         [230., 234., 237.],\n",
       "         [229., 233., 236.]],\n",
       "\n",
       "        ...,\n",
       "\n",
       "        [[184., 199., 206.],\n",
       "         [186., 200., 206.],\n",
       "         [188., 201., 207.],\n",
       "         ...,\n",
       "         [201., 212., 216.],\n",
       "         [200., 211., 216.],\n",
       "         [198., 210., 216.]],\n",
       "\n",
       "        [[176., 193., 200.],\n",
       "         [176., 193., 200.],\n",
       "         [178., 194., 201.],\n",
       "         ...,\n",
       "         [203., 214., 218.],\n",
       "         [202., 213., 217.],\n",
       "         [201., 212., 216.]],\n",
       "\n",
       "        [[167., 186., 193.],\n",
       "         [168., 187., 194.],\n",
       "         [168., 187., 194.],\n",
       "         ...,\n",
       "         [205., 214., 219.],\n",
       "         [203., 214., 218.],\n",
       "         [201., 212., 216.]]],\n",
       "\n",
       "\n",
       "       [[[185., 183., 181.],\n",
       "         [193., 186., 180.],\n",
       "         [194., 188., 180.],\n",
       "         ...,\n",
       "         [212., 207., 214.],\n",
       "         [209., 203., 212.],\n",
       "         [200., 191., 209.]],\n",
       "\n",
       "        [[187., 182., 177.],\n",
       "         [190., 184., 180.],\n",
       "         [189., 185., 183.],\n",
       "         ...,\n",
       "         [213., 208., 215.],\n",
       "         [208., 204., 215.],\n",
       "         [205., 199., 214.]],\n",
       "\n",
       "        [[184., 181., 179.],\n",
       "         [184., 183., 182.],\n",
       "         [188., 186., 185.],\n",
       "         ...,\n",
       "         [212., 207., 217.],\n",
       "         [208., 204., 217.],\n",
       "         [206., 202., 216.]],\n",
       "\n",
       "        ...,\n",
       "\n",
       "        [[255., 255., 255.],\n",
       "         [255., 255., 255.],\n",
       "         [255., 255., 255.],\n",
       "         ...,\n",
       "         [255., 255., 255.],\n",
       "         [255., 255., 255.],\n",
       "         [255., 255., 255.]],\n",
       "\n",
       "        [[255., 255., 255.],\n",
       "         [255., 255., 255.],\n",
       "         [255., 255., 255.],\n",
       "         ...,\n",
       "         [255., 255., 255.],\n",
       "         [255., 255., 255.],\n",
       "         [255., 255., 255.]],\n",
       "\n",
       "        [[255., 255., 255.],\n",
       "         [255., 255., 255.],\n",
       "         [255., 255., 255.],\n",
       "         ...,\n",
       "         [255., 255., 255.],\n",
       "         [255., 255., 255.],\n",
       "         [255., 255., 255.]]],\n",
       "\n",
       "\n",
       "       ...,\n",
       "\n",
       "\n",
       "       [[[165., 161., 158.],\n",
       "         [167., 165., 162.],\n",
       "         [166., 164., 160.],\n",
       "         ...,\n",
       "         [184., 183., 190.],\n",
       "         [200., 204., 211.],\n",
       "         [ 69.,  72.,  75.]],\n",
       "\n",
       "        [[163., 163., 158.],\n",
       "         [167., 164., 159.],\n",
       "         [165., 163., 160.],\n",
       "         ...,\n",
       "         [181., 182., 185.],\n",
       "         [198., 200., 206.],\n",
       "         [ 78.,  83.,  87.]],\n",
       "\n",
       "        [[164., 163., 159.],\n",
       "         [167., 166., 162.],\n",
       "         [168., 165., 162.],\n",
       "         ...,\n",
       "         [175., 176., 190.],\n",
       "         [203., 207., 214.],\n",
       "         [ 90.,  95.,  98.]],\n",
       "\n",
       "        ...,\n",
       "\n",
       "        [[131., 130., 124.],\n",
       "         [142., 139., 134.],\n",
       "         [220., 220., 220.],\n",
       "         ...,\n",
       "         [ 19.,  11.,   8.],\n",
       "         [ 67.,  71.,  65.],\n",
       "         [154., 164., 170.]],\n",
       "\n",
       "        [[133., 126., 123.],\n",
       "         [141., 137., 131.],\n",
       "         [145., 143., 139.],\n",
       "         ...,\n",
       "         [ 16.,  13.,   7.],\n",
       "         [101., 106., 105.],\n",
       "         [169., 179., 184.]],\n",
       "\n",
       "        [[126., 125., 119.],\n",
       "         [138., 131., 127.],\n",
       "         [140., 139., 136.],\n",
       "         ...,\n",
       "         [ 18.,  16.,   8.],\n",
       "         [130., 134., 137.],\n",
       "         [176., 187., 192.]]],\n",
       "\n",
       "\n",
       "       [[[228., 228., 247.],\n",
       "         [229., 227., 248.],\n",
       "         [229., 228., 248.],\n",
       "         ...,\n",
       "         [156., 148., 159.],\n",
       "         [ 86.,  86.,  89.],\n",
       "         [  3.,   2.,   2.]],\n",
       "\n",
       "        [[228., 228., 249.],\n",
       "         [228., 228., 249.],\n",
       "         [229., 228., 248.],\n",
       "         ...,\n",
       "         [156., 145., 159.],\n",
       "         [ 83.,  80.,  86.],\n",
       "         [  3.,   2.,   2.]],\n",
       "\n",
       "        [[229., 229., 248.],\n",
       "         [230., 230., 248.],\n",
       "         [229., 229., 249.],\n",
       "         ...,\n",
       "         [152., 143., 156.],\n",
       "         [ 79.,  76.,  82.],\n",
       "         [  3.,   1.,   2.]],\n",
       "\n",
       "        ...,\n",
       "\n",
       "        [[102.,  91.,  94.],\n",
       "         [100.,  87.,  90.],\n",
       "         [ 95.,  83.,  86.],\n",
       "         ...,\n",
       "         [ 52.,  20.,   6.],\n",
       "         [ 47.,  19.,   6.],\n",
       "         [ 45.,  19.,   6.]],\n",
       "\n",
       "        [[103.,  89.,  92.],\n",
       "         [101.,  86.,  91.],\n",
       "         [ 97.,  84.,  85.],\n",
       "         ...,\n",
       "         [ 68.,  30.,  10.],\n",
       "         [ 67.,  29.,   9.],\n",
       "         [ 66.,  29.,  10.]],\n",
       "\n",
       "        [[102.,  89.,  89.],\n",
       "         [ 99.,  86.,  92.],\n",
       "         [ 96.,  83.,  85.],\n",
       "         ...,\n",
       "         [ 81.,  36.,  14.],\n",
       "         [ 79.,  36.,  17.],\n",
       "         [ 81.,  35.,  14.]]],\n",
       "\n",
       "\n",
       "       [[[ 96.,  90.,  84.],\n",
       "         [100.,  92.,  87.],\n",
       "         [103.,  95.,  92.],\n",
       "         ...,\n",
       "         [143., 137., 134.],\n",
       "         [139., 137., 132.],\n",
       "         [140., 137., 133.]],\n",
       "\n",
       "        [[ 99.,  94.,  88.],\n",
       "         [101.,  95.,  91.],\n",
       "         [106.,  99.,  90.],\n",
       "         ...,\n",
       "         [145., 144., 138.],\n",
       "         [143., 143., 138.],\n",
       "         [144., 142., 137.]],\n",
       "\n",
       "        [[103.,  96.,  92.],\n",
       "         [106.,  98.,  91.],\n",
       "         [107., 103.,  95.],\n",
       "         ...,\n",
       "         [148., 147., 142.],\n",
       "         [149., 147., 143.],\n",
       "         [150., 147., 142.]],\n",
       "\n",
       "        ...,\n",
       "\n",
       "        [[130., 128., 121.],\n",
       "         [125., 124., 116.],\n",
       "         [135., 137., 126.],\n",
       "         ...,\n",
       "         [  1.,   0.,   0.],\n",
       "         [  0.,   0.,   0.],\n",
       "         [  5.,   0.,   0.]],\n",
       "\n",
       "        [[121., 120., 119.],\n",
       "         [133., 133., 131.],\n",
       "         [130., 132., 124.],\n",
       "         ...,\n",
       "         [  1.,   0.,   0.],\n",
       "         [  2.,   0.,   2.],\n",
       "         [  0.,   0.,   0.]],\n",
       "\n",
       "        [[125., 123., 125.],\n",
       "         [120., 118., 116.],\n",
       "         [119., 119., 119.],\n",
       "         ...,\n",
       "         [  1.,   0.,   1.],\n",
       "         [  1.,   0.,   0.],\n",
       "         [  0.,   0.,   0.]]]], dtype=float32)"
      ]
     },
     "execution_count": 27,
     "metadata": {},
     "output_type": "execute_result"
    }
   ],
   "source": [
    "images"
   ]
  },
  {
   "cell_type": "markdown",
   "id": "acfa35e6",
   "metadata": {},
   "source": [
    "# PREPROCESS THE DATASET"
   ]
  },
  {
   "cell_type": "markdown",
   "id": "a9128c6f",
   "metadata": {},
   "source": [
    "# TEXT"
   ]
  },
  {
   "cell_type": "code",
   "execution_count": 28,
   "id": "f3974e40",
   "metadata": {},
   "outputs": [],
   "source": [
    "# Preprocess text data\n",
    "max_words = 1000\n",
    "max_sequence_length = 20\n",
    "\n",
    "tokenizer = Tokenizer(num_words=max_words)\n",
    "tokenizer.fit_on_texts(texts)\n",
    "sequences = tokenizer.texts_to_sequences(texts)\n",
    "word_index = tokenizer.word_index\n",
    "\n",
    "x_text = pad_sequences(sequences, maxlen=max_sequence_length)\n"
   ]
  },
  {
   "cell_type": "markdown",
   "id": "1badc1b6",
   "metadata": {},
   "source": [
    "# IMAGE"
   ]
  },
  {
   "cell_type": "code",
   "execution_count": 29,
   "id": "8012c5bc",
   "metadata": {},
   "outputs": [],
   "source": [
    "# Preprocess image data\n",
    "x_image = images / 255.0  # Normalize pixel values to be between 0 and 1"
   ]
  },
  {
   "cell_type": "code",
   "execution_count": 30,
   "id": "ba1e7b1e",
   "metadata": {},
   "outputs": [],
   "source": [
    "# Preprocess labels\n",
    "label_encoder = LabelEncoder()\n",
    "y = label_encoder.fit_transform(labels)\n",
    "y = to_categorical(y)"
   ]
  },
  {
   "cell_type": "markdown",
   "id": "9f06c67f",
   "metadata": {},
   "source": [
    "# SPLIT THE DATASET "
   ]
  },
  {
   "cell_type": "code",
   "execution_count": 31,
   "id": "25bf990b",
   "metadata": {},
   "outputs": [],
   "source": [
    "# Split data into training and testing sets\n",
    "x_text_train, x_text_test, x_image_train, x_image_test, y_train, y_test = train_test_split(\n",
    "    x_text, x_image, y, test_size=0.2, random_state=42\n",
    ")\n"
   ]
  },
  {
   "cell_type": "markdown",
   "id": "b0d8c254",
   "metadata": {},
   "source": [
    "# MODEL BUILDING"
   ]
  },
  {
   "cell_type": "code",
   "execution_count": 32,
   "id": "f35b1359",
   "metadata": {},
   "outputs": [],
   "source": [
    "# Define text model (LSTM)\n",
    "text_input = Input(shape=(max_sequence_length,))\n",
    "embedding_layer = Embedding(max_words, 50, input_length=max_sequence_length)(text_input)\n",
    "lstm_layer = LSTM(50)(embedding_layer)"
   ]
  },
  {
   "cell_type": "code",
   "execution_count": 33,
   "id": "85d03cc2",
   "metadata": {},
   "outputs": [],
   "source": [
    "# Define image model (CNN)\n",
    "image_input = Input(shape=(100, 100, 3))\n",
    "conv1 = Conv2D(32, (3, 3), activation='relu')(image_input)\n",
    "pool1 = MaxPooling2D(pool_size=(2, 2))(conv1)\n",
    "conv2 = Conv2D(64, (3, 3), activation='relu')(pool1)\n",
    "pool2 = MaxPooling2D(pool_size=(2, 2))(conv2)\n",
    "flatten = Flatten()(pool2)"
   ]
  },
  {
   "cell_type": "markdown",
   "id": "38232d58",
   "metadata": {},
   "source": [
    "# MERGE THE MODELS"
   ]
  },
  {
   "cell_type": "code",
   "execution_count": 34,
   "id": "ec670bdd",
   "metadata": {},
   "outputs": [],
   "source": [
    "# Concatenate text and image features\n",
    "merged = concatenate([lstm_layer, flatten])"
   ]
  },
  {
   "cell_type": "code",
   "execution_count": 35,
   "id": "0d1ff7fa",
   "metadata": {},
   "outputs": [],
   "source": [
    "# Common dense layers for combined features\n",
    "dense1 = Dense(64, activation='relu')(merged)\n",
    "dropout = Dropout(0.5)(dense1)\n",
    "output = Dense(2, activation='softmax')(dropout)"
   ]
  },
  {
   "cell_type": "code",
   "execution_count": 36,
   "id": "3bd8fe3b",
   "metadata": {},
   "outputs": [],
   "source": [
    "# Build and compile the model\n",
    "model = Model(inputs=[text_input, image_input], outputs=output)\n",
    "model.compile(loss='categorical_crossentropy', optimizer=Adam(), metrics=['accuracy'])"
   ]
  },
  {
   "cell_type": "code",
   "execution_count": 37,
   "id": "745b14ae",
   "metadata": {},
   "outputs": [
    {
     "name": "stdout",
     "output_type": "stream",
     "text": [
      "Model: \"model\"\n",
      "__________________________________________________________________________________________________\n",
      " Layer (type)                Output Shape                 Param #   Connected to                  \n",
      "==================================================================================================\n",
      " input_2 (InputLayer)        [(None, 100, 100, 3)]        0         []                            \n",
      "                                                                                                  \n",
      " conv2d (Conv2D)             (None, 98, 98, 32)           896       ['input_2[0][0]']             \n",
      "                                                                                                  \n",
      " max_pooling2d (MaxPooling2  (None, 49, 49, 32)           0         ['conv2d[0][0]']              \n",
      " D)                                                                                               \n",
      "                                                                                                  \n",
      " input_1 (InputLayer)        [(None, 20)]                 0         []                            \n",
      "                                                                                                  \n",
      " conv2d_1 (Conv2D)           (None, 47, 47, 64)           18496     ['max_pooling2d[0][0]']       \n",
      "                                                                                                  \n",
      " embedding (Embedding)       (None, 20, 50)               50000     ['input_1[0][0]']             \n",
      "                                                                                                  \n",
      " max_pooling2d_1 (MaxPoolin  (None, 23, 23, 64)           0         ['conv2d_1[0][0]']            \n",
      " g2D)                                                                                             \n",
      "                                                                                                  \n",
      " lstm (LSTM)                 (None, 50)                   20200     ['embedding[0][0]']           \n",
      "                                                                                                  \n",
      " flatten (Flatten)           (None, 33856)                0         ['max_pooling2d_1[0][0]']     \n",
      "                                                                                                  \n",
      " concatenate (Concatenate)   (None, 33906)                0         ['lstm[0][0]',                \n",
      "                                                                     'flatten[0][0]']             \n",
      "                                                                                                  \n",
      " dense (Dense)               (None, 64)                   2170048   ['concatenate[0][0]']         \n",
      "                                                                                                  \n",
      " dropout (Dropout)           (None, 64)                   0         ['dense[0][0]']               \n",
      "                                                                                                  \n",
      " dense_1 (Dense)             (None, 2)                    130       ['dropout[0][0]']             \n",
      "                                                                                                  \n",
      "==================================================================================================\n",
      "Total params: 2259770 (8.62 MB)\n",
      "Trainable params: 2259770 (8.62 MB)\n",
      "Non-trainable params: 0 (0.00 Byte)\n",
      "__________________________________________________________________________________________________\n"
     ]
    }
   ],
   "source": [
    "model.summary()"
   ]
  },
  {
   "cell_type": "code",
   "execution_count": 38,
   "id": "9409ab71",
   "metadata": {},
   "outputs": [
    {
     "name": "stdout",
     "output_type": "stream",
     "text": [
      "Epoch 1/20\n",
      "170/170 [==============================] - 51s 279ms/step - loss: 0.6572 - accuracy: 0.6480 - val_loss: 0.6394 - val_accuracy: 0.6235\n",
      "Epoch 2/20\n",
      "170/170 [==============================] - 52s 308ms/step - loss: 0.5827 - accuracy: 0.6950 - val_loss: 0.6311 - val_accuracy: 0.6632\n",
      "Epoch 3/20\n",
      "170/170 [==============================] - 60s 354ms/step - loss: 0.5271 - accuracy: 0.7415 - val_loss: 0.6467 - val_accuracy: 0.6625\n",
      "Epoch 4/20\n",
      "170/170 [==============================] - 50s 293ms/step - loss: 0.4853 - accuracy: 0.7656 - val_loss: 0.6826 - val_accuracy: 0.6603\n",
      "Epoch 5/20\n",
      "170/170 [==============================] - 56s 332ms/step - loss: 0.4266 - accuracy: 0.7972 - val_loss: 0.7134 - val_accuracy: 0.6574\n"
     ]
    },
    {
     "data": {
      "text/plain": [
       "<keras.src.callbacks.History at 0x109d8ea90>"
      ]
     },
     "execution_count": 38,
     "metadata": {},
     "output_type": "execute_result"
    }
   ],
   "source": [
    "# Train the model with early stopping\n",
    "early_stopping = EarlyStopping(monitor='val_loss', patience=3, restore_best_weights=True)\n",
    "model.fit([x_text_train, x_image_train], y_train, epochs=20, batch_size=32, validation_split=0.2, callbacks=[early_stopping])\n"
   ]
  },
  {
   "cell_type": "code",
   "execution_count": 39,
   "id": "c4a1cb78",
   "metadata": {},
   "outputs": [
    {
     "name": "stdout",
     "output_type": "stream",
     "text": [
      "54/54 [==============================] - 3s 54ms/step - loss: 0.6038 - accuracy: 0.6847\n",
      "Test Loss: 0.6038, Test Accuracy: 0.6847\n"
     ]
    }
   ],
   "source": [
    "loss, accuracy = model.evaluate([x_text_test, x_image_test], y_test)\n",
    "print(f\"Test Loss: {loss:.4f}, Test Accuracy: {accuracy:.4f}\")"
   ]
  },
  {
   "cell_type": "code",
   "execution_count": 92,
   "id": "e6e2f2e3",
   "metadata": {},
   "outputs": [
    {
     "name": "stdout",
     "output_type": "stream",
     "text": [
      "Classification Report:\n",
      "               precision    recall  f1-score   support\n",
      "\n",
      "           0       0.68      0.93      0.79      1075\n",
      "           1       0.69      0.26      0.38       625\n",
      "\n",
      "    accuracy                           0.68      1700\n",
      "   macro avg       0.69      0.60      0.58      1700\n",
      "weighted avg       0.69      0.68      0.64      1700\n",
      "\n"
     ]
    }
   ],
   "source": [
    "# Classification Report\n",
    "print(\"Classification Report:\\n\", classification_report(y_true_labels, y_pred_labels))"
   ]
  },
  {
   "cell_type": "markdown",
   "id": "f1844013",
   "metadata": {},
   "source": [
    "# PREDICTION"
   ]
  },
  {
   "cell_type": "code",
   "execution_count": 48,
   "id": "46572695",
   "metadata": {},
   "outputs": [],
   "source": [
    "# Trying out the model for prediction\n",
    "sample_text = \"Spread Love\"\n",
    "sample_image_path = \"/Users/comfortuji/Desktop/Cyberbullying/data/img/93875.png\"  "
   ]
  },
  {
   "cell_type": "code",
   "execution_count": 49,
   "id": "d8a9f844",
   "metadata": {},
   "outputs": [],
   "source": [
    "# Preprocess the input\n",
    "sample_sequence = tokenizer.texts_to_sequences([sample_text])\n",
    "sample_text_input = pad_sequences(sample_sequence, maxlen=max_sequence_length)\n",
    "sample_image = load_images([sample_image_path]) / 255.0"
   ]
  },
  {
   "cell_type": "code",
   "execution_count": 50,
   "id": "67c08038",
   "metadata": {},
   "outputs": [
    {
     "name": "stdout",
     "output_type": "stream",
     "text": [
      "1/1 [==============================] - 0s 61ms/step\n"
     ]
    }
   ],
   "source": [
    "# Make the prediction\n",
    "prediction = model.predict([sample_text_input, sample_image])"
   ]
  },
  {
   "cell_type": "code",
   "execution_count": 51,
   "id": "ef4a23a5",
   "metadata": {},
   "outputs": [
    {
     "name": "stdout",
     "output_type": "stream",
     "text": [
      "Predicted class: [0]\n"
     ]
    }
   ],
   "source": [
    "# Decode the prediction\n",
    "predicted_class = label_encoder.inverse_transform([np.argmax(prediction)])\n",
    "print(f\"Predicted class: {predicted_class}\")"
   ]
  },
  {
   "cell_type": "code",
   "execution_count": 52,
   "id": "6bf028ac",
   "metadata": {},
   "outputs": [],
   "source": [
    "# Trying out the model for prediction\n",
    "sample_text = \"I hate Muslims\"\n",
    "sample_image_path = \"/Users/comfortuji/Desktop/Cyberbullying/data/img/15937.png\"  "
   ]
  },
  {
   "cell_type": "code",
   "execution_count": 53,
   "id": "05c3330c",
   "metadata": {},
   "outputs": [],
   "source": [
    "# Preprocess the input\n",
    "sample_sequence = tokenizer.texts_to_sequences([sample_text])\n",
    "sample_text_input = pad_sequences(sample_sequence, maxlen=max_sequence_length)\n",
    "sample_image = load_images([sample_image_path]) / 255.0"
   ]
  },
  {
   "cell_type": "code",
   "execution_count": 54,
   "id": "cb6bd908",
   "metadata": {},
   "outputs": [
    {
     "name": "stdout",
     "output_type": "stream",
     "text": [
      "1/1 [==============================] - 0s 42ms/step\n"
     ]
    }
   ],
   "source": [
    "# Make the prediction\n",
    "prediction = model.predict([sample_text_input, sample_image])"
   ]
  },
  {
   "cell_type": "code",
   "execution_count": 55,
   "id": "fd06118f",
   "metadata": {},
   "outputs": [
    {
     "name": "stdout",
     "output_type": "stream",
     "text": [
      "Predicted class: [1]\n"
     ]
    }
   ],
   "source": [
    "# Decode the prediction\n",
    "predicted_class = label_encoder.inverse_transform([np.argmax(prediction)])\n",
    "print(f\"Predicted class: {predicted_class}\")"
   ]
  },
  {
   "cell_type": "markdown",
   "id": "1abe7d62",
   "metadata": {},
   "source": [
    "# DEPLOY MODEL TO GRADIO FOR INTERACTIVE INTERFACE"
   ]
  },
  {
   "cell_type": "code",
   "execution_count": 80,
   "id": "6b3b9ea6",
   "metadata": {},
   "outputs": [],
   "source": [
    "# Deploy the model using Gradio\n",
    "def predict_hateful_content(text, image):\n",
    "    sample_image_path = \"/Users/comfortuji/Desktop/Cyberbullying/data/img/15937.png\"  \n",
    "    # Preprocess the input\n",
    "    sample_sequence = tokenizer.texts_to_sequences([text])\n",
    "    sample_text_input = pad_sequences(sample_sequence, maxlen=max_sequence_length)\n",
    "    sample_image = load_images([sample_image_path]) / 255.0\n",
    "\n",
    "    # Make the prediction\n",
    "    prediction = model.predict([sample_text_input, sample_image])\n",
    "\n",
    "    # Decode the prediction\n",
    "    predicted_class = label_encoder.inverse_transform([np.argmax(prediction)])\n",
    "    return f\" 0 for Not cyberbullying and 1 for Cyberbullying. Detected content is labelled: {predicted_class}\"\n"
   ]
  },
  {
   "cell_type": "code",
   "execution_count": 57,
   "id": "8309574b",
   "metadata": {},
   "outputs": [],
   "source": [
    "import gradio as gr"
   ]
  },
  {
   "cell_type": "code",
   "execution_count": 81,
   "id": "01dd78a9",
   "metadata": {},
   "outputs": [
    {
     "name": "stdout",
     "output_type": "stream",
     "text": [
      "Running on local URL:  http://127.0.0.1:7873\n",
      "\n",
      "To create a public link, set `share=True` in `launch()`.\n"
     ]
    },
    {
     "data": {
      "text/html": [
       "<div><iframe src=\"http://127.0.0.1:7873/\" width=\"100%\" height=\"500\" allow=\"autoplay; camera; microphone; clipboard-read; clipboard-write;\" frameborder=\"0\" allowfullscreen></iframe></div>"
      ],
      "text/plain": [
       "<IPython.core.display.HTML object>"
      ]
     },
     "metadata": {},
     "output_type": "display_data"
    },
    {
     "data": {
      "text/plain": []
     },
     "execution_count": 81,
     "metadata": {},
     "output_type": "execute_result"
    },
    {
     "name": "stdout",
     "output_type": "stream",
     "text": [
      "1/1 [==============================] - 0s 57ms/step\n",
      "1/1 [==============================] - 0s 58ms/step\n"
     ]
    }
   ],
   "source": [
    "iface = gr.Interface(\n",
    "    fn=predict_hateful_content,\n",
    "    inputs=[\"text\", \"image\"],\n",
    "    outputs=\"text\"\n",
    ")\n",
    "iface.launch()"
   ]
  }
 ],
 "metadata": {
  "kernelspec": {
   "display_name": "Python 3 (ipykernel)",
   "language": "python",
   "name": "python3"
  },
  "language_info": {
   "codemirror_mode": {
    "name": "ipython",
    "version": 3
   },
   "file_extension": ".py",
   "mimetype": "text/x-python",
   "name": "python",
   "nbconvert_exporter": "python",
   "pygments_lexer": "ipython3",
   "version": "3.11.3"
  }
 },
 "nbformat": 4,
 "nbformat_minor": 5
}
